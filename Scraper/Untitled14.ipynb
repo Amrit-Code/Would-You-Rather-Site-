{
  "nbformat": 4,
  "nbformat_minor": 0,
  "metadata": {
    "colab": {
      "name": "Untitled14.ipynb",
      "provenance": []
    },
    "kernelspec": {
      "name": "python3",
      "display_name": "Python 3"
    },
    "language_info": {
      "name": "python"
    }
  },
  "cells": [
    {
      "cell_type": "code",
      "execution_count": null,
      "metadata": {
        "colab": {
          "base_uri": "https://localhost:8080/",
          "height": 200
        },
        "id": "-rOic8qSzP5_",
        "outputId": "690abab4-c18f-4990-9b61-e0eacc221a83"
      },
      "outputs": [
        {
          "output_type": "display_data",
          "data": {
            "text/plain": [
              "<IPython.core.display.Javascript object>"
            ],
            "application/javascript": [
              "google.colab.output.setIframeHeight(0, true, {maxHeight: 200})"
            ]
          },
          "metadata": {}
        },
        {
          "output_type": "stream",
          "name": "stdout",
          "text": [
            "Looking in indexes: https://pypi.org/simple, https://us-python.pkg.dev/colab-wheels/public/simple/\n",
            "Requirement already satisfied: firebase-admin in /usr/local/lib/python3.7/dist-packages (5.2.0)\n",
            "Requirement already satisfied: cachecontrol>=0.12.6 in /usr/local/lib/python3.7/dist-packages (from firebase-admin) (0.12.11)\n",
            "Requirement already satisfied: google-api-core[grpc]<3.0.0dev,>=1.22.1 in /usr/local/lib/python3.7/dist-packages (from firebase-admin) (1.31.6)\n",
            "Requirement already satisfied: google-api-python-client>=1.7.8 in /usr/local/lib/python3.7/dist-packages (from firebase-admin) (1.12.11)\n",
            "Requirement already satisfied: google-cloud-storage>=1.37.1 in /usr/local/lib/python3.7/dist-packages (from firebase-admin) (2.4.0)\n",
            "Requirement already satisfied: google-cloud-firestore>=2.1.0 in /usr/local/lib/python3.7/dist-packages (from firebase-admin) (2.5.3)\n",
            "Requirement already satisfied: msgpack>=0.5.2 in /usr/local/lib/python3.7/dist-packages (from cachecontrol>=0.12.6->firebase-admin) (1.0.4)\n",
            "Requirement already satisfied: requests in /usr/local/lib/python3.7/dist-packages (from cachecontrol>=0.12.6->firebase-admin) (2.23.0)\n",
            "Requirement already satisfied: six>=1.13.0 in /usr/local/lib/python3.7/dist-packages (from google-api-core[grpc]<3.0.0dev,>=1.22.1->firebase-admin) (1.15.0)\n",
            "Requirement already satisfied: setuptools>=40.3.0 in /usr/local/lib/python3.7/dist-packages (from google-api-core[grpc]<3.0.0dev,>=1.22.1->firebase-admin) (57.4.0)\n",
            "Requirement already satisfied: protobuf<4.0.0dev,>=3.12.0 in /usr/local/lib/python3.7/dist-packages (from google-api-core[grpc]<3.0.0dev,>=1.22.1->firebase-admin) (3.20.1)\n",
            "Requirement already satisfied: google-auth<2.0dev,>=1.25.0 in /usr/local/lib/python3.7/dist-packages (from google-api-core[grpc]<3.0.0dev,>=1.22.1->firebase-admin) (1.35.0)\n",
            "Requirement already satisfied: googleapis-common-protos<2.0dev,>=1.6.0 in /usr/local/lib/python3.7/dist-packages (from google-api-core[grpc]<3.0.0dev,>=1.22.1->firebase-admin) (1.56.2)\n",
            "Requirement already satisfied: packaging>=14.3 in /usr/local/lib/python3.7/dist-packages (from google-api-core[grpc]<3.0.0dev,>=1.22.1->firebase-admin) (21.3)\n",
            "Requirement already satisfied: pytz in /usr/local/lib/python3.7/dist-packages (from google-api-core[grpc]<3.0.0dev,>=1.22.1->firebase-admin) (2022.1)\n",
            "Requirement already satisfied: grpcio<2.0dev,>=1.29.0 in /usr/local/lib/python3.7/dist-packages (from google-api-core[grpc]<3.0.0dev,>=1.22.1->firebase-admin) (1.46.3)\n",
            "Requirement already satisfied: google-auth-httplib2>=0.0.3 in /usr/local/lib/python3.7/dist-packages (from google-api-python-client>=1.7.8->firebase-admin) (0.0.4)\n",
            "Requirement already satisfied: uritemplate<4dev,>=3.0.0 in /usr/local/lib/python3.7/dist-packages (from google-api-python-client>=1.7.8->firebase-admin) (3.0.1)\n",
            "Requirement already satisfied: httplib2<1dev,>=0.15.0 in /usr/local/lib/python3.7/dist-packages (from google-api-python-client>=1.7.8->firebase-admin) (0.17.4)\n",
            "Requirement already satisfied: cachetools<5.0,>=2.0.0 in /usr/local/lib/python3.7/dist-packages (from google-auth<2.0dev,>=1.25.0->google-api-core[grpc]<3.0.0dev,>=1.22.1->firebase-admin) (4.2.4)\n",
            "Requirement already satisfied: rsa<5,>=3.1.4 in /usr/local/lib/python3.7/dist-packages (from google-auth<2.0dev,>=1.25.0->google-api-core[grpc]<3.0.0dev,>=1.22.1->firebase-admin) (4.8)\n",
            "Requirement already satisfied: pyasn1-modules>=0.2.1 in /usr/local/lib/python3.7/dist-packages (from google-auth<2.0dev,>=1.25.0->google-api-core[grpc]<3.0.0dev,>=1.22.1->firebase-admin) (0.2.8)\n",
            "Requirement already satisfied: google-cloud-core<3.0.0dev,>=1.4.1 in /usr/local/lib/python3.7/dist-packages (from google-cloud-firestore>=2.1.0->firebase-admin) (2.3.1)\n",
            "Requirement already satisfied: proto-plus<2.0.0dev,>=1.20.5 in /usr/local/lib/python3.7/dist-packages (from google-cloud-firestore>=2.1.0->firebase-admin) (1.20.6)\n",
            "Requirement already satisfied: google-resumable-media>=2.3.2 in /usr/local/lib/python3.7/dist-packages (from google-cloud-storage>=1.37.1->firebase-admin) (2.3.3)\n",
            "Requirement already satisfied: google-crc32c<2.0dev,>=1.0 in /usr/local/lib/python3.7/dist-packages (from google-resumable-media>=2.3.2->google-cloud-storage>=1.37.1->firebase-admin) (1.3.0)\n",
            "Requirement already satisfied: pyparsing!=3.0.5,>=2.0.2 in /usr/local/lib/python3.7/dist-packages (from packaging>=14.3->google-api-core[grpc]<3.0.0dev,>=1.22.1->firebase-admin) (3.0.9)\n",
            "Requirement already satisfied: pyasn1<0.5.0,>=0.4.6 in /usr/local/lib/python3.7/dist-packages (from pyasn1-modules>=0.2.1->google-auth<2.0dev,>=1.25.0->google-api-core[grpc]<3.0.0dev,>=1.22.1->firebase-admin) (0.4.8)\n",
            "Requirement already satisfied: idna<3,>=2.5 in /usr/local/lib/python3.7/dist-packages (from requests->cachecontrol>=0.12.6->firebase-admin) (2.10)\n",
            "Requirement already satisfied: chardet<4,>=3.0.2 in /usr/local/lib/python3.7/dist-packages (from requests->cachecontrol>=0.12.6->firebase-admin) (3.0.4)\n",
            "Requirement already satisfied: certifi>=2017.4.17 in /usr/local/lib/python3.7/dist-packages (from requests->cachecontrol>=0.12.6->firebase-admin) (2022.6.15)\n",
            "Requirement already satisfied: urllib3!=1.25.0,!=1.25.1,<1.26,>=1.21.1 in /usr/local/lib/python3.7/dist-packages (from requests->cachecontrol>=0.12.6->firebase-admin) (1.24.3)\n"
          ]
        }
      ],
      "source": [
        "\n",
        "from IPython.display import Javascript\n",
        "display(Javascript('''google.colab.output.setIframeHeight(0, true, {maxHeight: 200})'''))\n",
        "\n",
        "!pip install --upgrade firebase-admin\n",
        "\n",
        "import requests\n",
        "from bs4 import BeautifulSoup\n",
        "\n",
        "URL = \"https://ponly.com/would-you-rather/\"\n",
        "page = requests.get(URL)\n",
        "soup = BeautifulSoup(page.content, \"html.parser\")\n",
        "\n",
        "output = soup.get_text()\n",
        "\n",
        "wyr = {\n",
        "    \"Best Would You Rather Questions\" : [],\n",
        "    \"Would You Rather Questions Funny\" : [],\n",
        "    \"Hard Would You Rather Questions\" : []\n",
        "\n",
        "}\n",
        "#topics = [\"Best Would You Rather Questions\",\"Would You Rather Questions Funny\",\"Hard Would You Rather Questions\"]\n",
        "topic = \"\"\n",
        "for row in output.splitlines():\n",
        "  if row in wyr:\n",
        "    topic = row\n",
        "  if (\"Would you rather\" in row) and not(topic == \"\"):\n",
        "    wyr[topic].append(row)\n",
        "\n",
        "\n",
        "  \n",
        "\n"
      ]
    },
    {
      "cell_type": "code",
      "source": [
        "writefile = open('data.txt', 'w') \n",
        "\n",
        "for i in wyr:\n",
        "  typeW = \"\"\n",
        "  if i == \"Best Would You Rather Questions\":\n",
        "    typeW = \"Best\"\n",
        "  elif i == \"Would You Rather Questions Funny\":\n",
        "    typeW = \"Funny\"\n",
        "  else:\n",
        "    typeW = \"Best\"\n",
        "  for j in wyr[i]:\n",
        "    stringToWrite = \"INSERT INTO questions ('question', 'Type') VALUES('\"+j+\"','\"+typeW+\"')\\n\"\n",
        "    writefile.write(stringToWrite)\n",
        "\n",
        "writefile.close()"
      ],
      "metadata": {
        "id": "leTf5Qf55IaI"
      },
      "execution_count": null,
      "outputs": []
    },
    {
      "cell_type": "code",
      "source": [
        "import firebase_admin\n",
        "from firebase_admin import credentials\n",
        "from firebase_admin import firestore\n",
        "\n",
        "project_id = \"would-you-rather-a3782\"\n",
        "\n",
        "\n",
        "# Use the application default credentials\n",
        "cred = credentials.Certificate(\"/content/would-you-rather-a3782-firebase-adminsdk-xhsez-8d4d5c911a.json\")\n",
        "firebase_admin.initialize_app(cred, {\n",
        "  'projectId': project_id,\n",
        "})\n",
        "\n",
        "db = firestore.client()"
      ],
      "metadata": {
        "id": "LNgbXoat9FD9"
      },
      "execution_count": null,
      "outputs": []
    },
    {
      "cell_type": "code",
      "source": [
        "doc_ref = db.collection(u'questions').document()\n",
        "doc_ref.set({\n",
        "    u'Type': u'Adaasdf',\n",
        "    u'question': u'Lovelacasdfe'\n",
        "})"
      ],
      "metadata": {
        "colab": {
          "base_uri": "https://localhost:8080/"
        },
        "id": "6cIl41jABtgc",
        "outputId": "61a73d8a-bc4f-4375-a69c-d3e60c8e4533"
      },
      "execution_count": null,
      "outputs": [
        {
          "output_type": "execute_result",
          "data": {
            "text/plain": [
              "update_time {\n",
              "  seconds: 1657385420\n",
              "  nanos: 180799000\n",
              "}"
            ]
          },
          "metadata": {},
          "execution_count": 7
        }
      ]
    },
    {
      "cell_type": "code",
      "source": [
        "for i in wyr:\n",
        "  for j in wyr[i]:\n",
        "    doc_ref = db.collection(u'questions').document()\n",
        "    doc_ref.set({\n",
        "        u'Type':  str(i),\n",
        "        u'question':  str(j)\n",
        "    })\n",
        "\n"
      ],
      "metadata": {
        "id": "_vaZHvhrDy0q"
      },
      "execution_count": null,
      "outputs": []
    },
    {
      "cell_type": "code",
      "source": [
        ""
      ],
      "metadata": {
        "id": "1qZlZcOz4eAp"
      },
      "execution_count": null,
      "outputs": []
    }
  ]
}